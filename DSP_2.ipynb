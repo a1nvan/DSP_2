{
 "cells": [
  {
   "cell_type": "code",
   "execution_count": 7,
   "metadata": {},
   "outputs": [],
   "source": [
    "import numpy as np\n",
    "num_samples = 8\n",
    "x=np.random.uniform(low=-1,high=1, size=num_samples)\n",
    "iy=np.random.uniform(low=-1,high=1, size=num_samples)\n",
    "with open('complex.txt', 'w') as f:\n",
    "  for i in range(len(x)):\n",
    "    f.write(f'{x[i]}\\t')\n",
    "    f.write(f'{iy[i]}\\n')\n"
   ]
  }
 ],
 "metadata": {
  "kernelspec": {
   "display_name": "Python 3",
   "language": "python",
   "name": "python3"
  },
  "language_info": {
   "codemirror_mode": {
    "name": "ipython",
    "version": 3
   },
   "file_extension": ".py",
   "mimetype": "text/x-python",
   "name": "python",
   "nbconvert_exporter": "python",
   "pygments_lexer": "ipython3",
   "version": "3.11.8"
  }
 },
 "nbformat": 4,
 "nbformat_minor": 2
}
